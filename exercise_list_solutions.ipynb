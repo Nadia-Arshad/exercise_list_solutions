{
 "cells": [
  {
   "cell_type": "markdown",
   "metadata": {},
   "source": [
    "3.4 - Guest List"
   ]
  },
  {
   "cell_type": "code",
   "execution_count": 9,
   "metadata": {},
   "outputs": [
    {
     "name": "stdout",
     "output_type": "stream",
     "text": [
      "Dear Arshad, you are invited to my graduation party.\n",
      "Dear Manahil, you are invited to my graduation party.\n",
      "Dear Madi, you are invited to my graduation party.\n",
      "Dear Mahrukh, you are invited to my graduation party.\n",
      "Dear Kiran, you are invited to my graduation party.\n"
     ]
    }
   ],
   "source": [
    "guest_list = [\"Arshad\", \"Manahil\", \"Madi\", \"Mahrukh\", \"Kiran\"]\n",
    "message = \"Dear {}, you are invited to my graduation party.\"\n",
    "for guest in guest_list:\n",
    "    print(message.format(guest))"
   ]
  },
  {
   "cell_type": "markdown",
   "metadata": {},
   "source": [
    "3.5 - Changing Guest List"
   ]
  },
  {
   "cell_type": "code",
   "execution_count": 5,
   "metadata": {},
   "outputs": [
    {
     "name": "stdout",
     "output_type": "stream",
     "text": [
      "My apologies, Kiran would not be able to show up at the party.\n",
      "You're invited to the party, Arshad\n",
      "You're invited to the party, Manahil\n",
      "You're invited to the party, Madi\n",
      "You're invited to the party, Mahrukh\n",
      "You're invited to the party, Georgie\n"
     ]
    }
   ],
   "source": [
    "guest_list = [\"Arshad\", \"Manahil\", \"Madi\", \"Mahrukh\", \"Kiran\"]\n",
    "print(f\"My apologies, {guest_list[4]} would not be able to show up at the party.\")\n",
    "guest_list[4] = \"Georgie\"\n",
    "message = \"You're invited to the party, {}\"\n",
    "for guest in guest_list:\n",
    "    print(message.format(guest))"
   ]
  },
  {
   "cell_type": "markdown",
   "metadata": {},
   "source": [
    "3-6 More Guests"
   ]
  },
  {
   "cell_type": "code",
   "execution_count": 15,
   "metadata": {},
   "outputs": [
    {
     "name": "stdout",
     "output_type": "stream",
     "text": [
      "Good news! I found a bigger table!\n",
      "Dear Derik, you're invited to dinner!\n",
      "Dear Arshad, you're invited to dinner!\n",
      "Dear Manahil, you're invited to dinner!\n",
      "Dear Dana, you're invited to dinner!\n",
      "Dear Madi, you're invited to dinner!\n",
      "Dear Mahrukh, you're invited to dinner!\n",
      "Dear Georgie, you're invited to dinner!\n",
      "Dear Alan, you're invited to dinner!\n"
     ]
    }
   ],
   "source": [
    "guest_list = [\"Arshad\", \"Manahil\", \"Madi\", \"Mahrukh\", \"Kiran\"]\n",
    "guest_list[4] = \"Georgie\"\n",
    "print(\"Good news! I found a bigger table!\")\n",
    "\n",
    "guest_list.insert(0, \"Derik\")\n",
    "guest_list.insert(3, \"Dana\")\n",
    "guest_list.append(\"Alan\")\n",
    "\n",
    "for guest in guest_list:\n",
    "    print(f\"Dear {guest}, you're invited to dinner!\")"
   ]
  },
  {
   "cell_type": "markdown",
   "metadata": {},
   "source": [
    "3-7 Shrinking Guest List"
   ]
  },
  {
   "cell_type": "code",
   "execution_count": 5,
   "metadata": {},
   "outputs": [
    {
     "name": "stdout",
     "output_type": "stream",
     "text": [
      "I can only invite two people for dinner.\n",
      "Dear Georgie, I'm so sorry, I can't invite you to dinner.\n",
      "Dear Mahrukh, I'm so sorry, I can't invite you to dinner.\n",
      "Dear Madi, I'm so sorry, I can't invite you to dinner.\n",
      "Dear Arshad, you're still invited to dinner!\n",
      "Dear Manahil, you're still invited to dinner!\n",
      "[]\n"
     ]
    }
   ],
   "source": [
    "guest_list = [\"Arshad\", \"Manahil\", \"Madi\", \"Mahrukh\", \"Kiran\"]\n",
    "guest_list[4] = \"Georgie\"\n",
    "\n",
    "print(\"I can only invite two people for dinner.\")\n",
    "\n",
    "while len(guest_list) > 2:\n",
    "    removed_guest = guest_list.pop()\n",
    "    print(f\"Dear {removed_guest}, I'm so sorry, I can't invite you to dinner.\")\n",
    "\n",
    "for guest in guest_list:\n",
    "    print(f\"Dear {guest}, you're still invited to dinner!\")\n",
    "\n",
    "del guest_list[0]\n",
    "del guest_list[0]\n",
    "print(guest_list)  "
   ]
  },
  {
   "cell_type": "markdown",
   "metadata": {},
   "source": [
    "3-8 Seeing the World"
   ]
  },
  {
   "cell_type": "code",
   "execution_count": null,
   "metadata": {},
   "outputs": [
    {
     "name": "stdout",
     "output_type": "stream",
     "text": [
      "['Kashmir', 'Gilgit', 'Hunza', 'Spain', 'Japan']\n",
      "['Gilgit', 'Hunza', 'Japan', 'Kashmir', 'Spain']\n",
      "['Kashmir', 'Gilgit', 'Hunza', 'Spain', 'Japan']\n"
     ]
    }
   ],
   "source": [
    "places_to_visit = [\"Kashmir\", \"Gilgit\", \"Hunza\", \"Spain\", \"Japan\"]\n",
    "print(places_to_visit)\n",
    "print(sorted(places_to_visit))\n",
    "print(places_to_visit)\n"
   ]
  },
  {
   "cell_type": "code",
   "execution_count": null,
   "metadata": {},
   "outputs": [
    {
     "name": "stdout",
     "output_type": "stream",
     "text": [
      "['Japan', 'Spain', 'Hunza', 'Gilgit', 'Kashmir']\n",
      "['Kashmir', 'Gilgit', 'Hunza', 'Spain', 'Japan']\n"
     ]
    }
   ],
   "source": [
    "places_to_visit = [\"Kashmir\", \"Gilgit\", \"Hunza\", \"Spain\", \"Japan\"]\n",
    "places_to_visit.reverse()\n",
    "print(places_to_visit)\n",
    "places_to_visit.reverse()\n",
    "print(places_to_visit)\n"
   ]
  },
  {
   "cell_type": "code",
   "execution_count": null,
   "metadata": {},
   "outputs": [
    {
     "name": "stdout",
     "output_type": "stream",
     "text": [
      "['Gilgit', 'Hunza', 'Japan', 'Kashmir', 'Spain']\n",
      "['Kashmir', 'Gilgit', 'Hunza', 'Spain', 'Japan']\n"
     ]
    }
   ],
   "source": [
    "places_to_visit = [\"Kashmir\", \"Gilgit\", \"Hunza\", \"Spain\", \"Japan\"]\n",
    "sorted_list = places_to_visit.copy()\n",
    "places_to_visit.sort()\n",
    "print(places_to_visit)\n",
    "print(sorted_list)"
   ]
  },
  {
   "cell_type": "markdown",
   "metadata": {},
   "source": [
    "3-9 Practicing Python Functions\n",
    "Using len()"
   ]
  },
  {
   "cell_type": "code",
   "execution_count": 16,
   "metadata": {},
   "outputs": [
    {
     "name": "stdout",
     "output_type": "stream",
     "text": [
      "5\n"
     ]
    }
   ],
   "source": [
    "languages = [\"Espanol\", \"French\", \"Arabic\", \"Punjabi\", \"Urdu\"]\n",
    "print(len(languages))\n",
    "\n"
   ]
  },
  {
   "cell_type": "markdown",
   "metadata": {},
   "source": [
    "Using append()"
   ]
  },
  {
   "cell_type": "code",
   "execution_count": null,
   "metadata": {},
   "outputs": [
    {
     "name": "stdout",
     "output_type": "stream",
     "text": [
      "['Espanol', 'French', 'Arabic', 'Punjabi', 'Urdu', 'Russian']\n"
     ]
    }
   ],
   "source": [
    "languages = [\"Espanol\", \"French\", \"Arabic\", \"Punjabi\", \"Urdu\"]\n",
    "languages.append(\"Russian\")\n",
    "print(languages)\n"
   ]
  },
  {
   "cell_type": "markdown",
   "metadata": {},
   "source": [
    "Using insert()"
   ]
  },
  {
   "cell_type": "code",
   "execution_count": null,
   "metadata": {},
   "outputs": [
    {
     "name": "stdout",
     "output_type": "stream",
     "text": [
      "['Swahili', 'Espanol', 'French', 'Arabic', 'Punjabi', 'Urdu']\n"
     ]
    }
   ],
   "source": [
    "languages = [\"Espanol\", \"French\", \"Arabic\", \"Punjabi\", \"Urdu\"]\n",
    "languages.insert(0, \"Swahili\")\n",
    "print(languages)"
   ]
  },
  {
   "cell_type": "markdown",
   "metadata": {},
   "source": [
    "Using remove()"
   ]
  },
  {
   "cell_type": "code",
   "execution_count": null,
   "metadata": {},
   "outputs": [
    {
     "name": "stdout",
     "output_type": "stream",
     "text": [
      "['Espanol', 'French', 'Arabic', 'Urdu']\n"
     ]
    }
   ],
   "source": [
    "languages = [\"Espanol\", \"French\", \"Arabic\", \"Punjabi\", \"Urdu\"]\n",
    "languages.remove(\"Punjabi\")\n",
    "print(languages)"
   ]
  },
  {
   "cell_type": "markdown",
   "metadata": {},
   "source": [
    "Using pop()"
   ]
  },
  {
   "cell_type": "code",
   "execution_count": null,
   "metadata": {},
   "outputs": [
    {
     "name": "stdout",
     "output_type": "stream",
     "text": [
      "['Espanol', 'French', 'Arabic', 'Punjabi']\n"
     ]
    }
   ],
   "source": [
    "languages = [\"Espanol\", \"French\", \"Arabic\", \"Punjabi\", \"Urdu\"]\n",
    "languages.pop()\n",
    "print(languages)"
   ]
  },
  {
   "cell_type": "markdown",
   "metadata": {},
   "source": [
    "Using index()"
   ]
  },
  {
   "cell_type": "code",
   "execution_count": null,
   "metadata": {},
   "outputs": [
    {
     "name": "stdout",
     "output_type": "stream",
     "text": [
      "2\n"
     ]
    }
   ],
   "source": [
    "languages = [\"Espanol\", \"French\", \"Arabic\", \"Punjabi\", \"Urdu\"]\n",
    "print(languages.index(\"Arabic\"))\n"
   ]
  },
  {
   "cell_type": "markdown",
   "metadata": {},
   "source": [
    "Using Count()"
   ]
  },
  {
   "cell_type": "code",
   "execution_count": null,
   "metadata": {},
   "outputs": [
    {
     "name": "stdout",
     "output_type": "stream",
     "text": [
      "3\n"
     ]
    }
   ],
   "source": [
    "languages = [\"Espanol\", \"French\", \"Arabic\", \"Punjabi\", \"Urdu\", \"French\", \"Dutch\", \"French\", \"Siraiki\"]\n",
    "print(languages.count(\"French\"))"
   ]
  },
  {
   "cell_type": "markdown",
   "metadata": {},
   "source": [
    "Using Sort()"
   ]
  },
  {
   "cell_type": "code",
   "execution_count": null,
   "metadata": {},
   "outputs": [
    {
     "name": "stdout",
     "output_type": "stream",
     "text": [
      "['Arabic', 'Espanol', 'French', 'Punjabi', 'Urdu']\n"
     ]
    }
   ],
   "source": [
    "languages = [\"Espanol\", \"French\", \"Arabic\", \"Punjabi\", \"Urdu\"]\n",
    "languages.sort()\n",
    "print(languages)"
   ]
  },
  {
   "cell_type": "markdown",
   "metadata": {},
   "source": [
    "Using reverse()"
   ]
  },
  {
   "cell_type": "code",
   "execution_count": null,
   "metadata": {},
   "outputs": [
    {
     "name": "stdout",
     "output_type": "stream",
     "text": [
      "['Urdu', 'Punjabi', 'Arabic', 'French', 'Espanol']\n"
     ]
    }
   ],
   "source": [
    "languages = [\"Espanol\", \"French\", \"Arabic\", \"Punjabi\", \"Urdu\"]\n",
    "languages.reverse()\n",
    "print(languages)"
   ]
  },
  {
   "cell_type": "markdown",
   "metadata": {},
   "source": [
    "Using extend()"
   ]
  },
  {
   "cell_type": "code",
   "execution_count": null,
   "metadata": {},
   "outputs": [
    {
     "name": "stdout",
     "output_type": "stream",
     "text": [
      "['Espanol', 'French', 'Arabic', 'Punjabi', 'Urdu', 'English', 'Hindi', 'Chinese', 'Cantonese']\n"
     ]
    }
   ],
   "source": [
    "languages = [\"Espanol\", \"French\", \"Arabic\", \"Punjabi\", \"Urdu\"]\n",
    "more_languages = [\"English\", \"Hindi\", \"Chinese\", \"Cantonese\"]\n",
    "languages.extend(more_languages)\n",
    "print(languages)"
   ]
  },
  {
   "cell_type": "markdown",
   "metadata": {},
   "source": [
    "Using clear()"
   ]
  },
  {
   "cell_type": "code",
   "execution_count": null,
   "metadata": {},
   "outputs": [
    {
     "name": "stdout",
     "output_type": "stream",
     "text": [
      "[]\n"
     ]
    }
   ],
   "source": [
    "languages = [\"Espanol\", \"French\", \"Arabic\", \"Punjabi\", \"Urdu\"]\n",
    "languages.clear()\n",
    "print(languages)"
   ]
  },
  {
   "cell_type": "markdown",
   "metadata": {},
   "source": [
    "Practicing Index Error: 3.10"
   ]
  },
  {
   "cell_type": "code",
   "execution_count": null,
   "metadata": {},
   "outputs": [
    {
     "ename": "IndexError",
     "evalue": "list index out of range",
     "output_type": "error",
     "traceback": [
      "\u001b[1;31m---------------------------------------------------------------------------\u001b[0m",
      "\u001b[1;31mIndexError\u001b[0m                                Traceback (most recent call last)",
      "Cell \u001b[1;32mIn[70], line 2\u001b[0m\n\u001b[0;32m      1\u001b[0m languages \u001b[38;5;241m=\u001b[39m [\u001b[38;5;124m\"\u001b[39m\u001b[38;5;124mEspanol\u001b[39m\u001b[38;5;124m\"\u001b[39m, \u001b[38;5;124m\"\u001b[39m\u001b[38;5;124mFrench\u001b[39m\u001b[38;5;124m\"\u001b[39m, \u001b[38;5;124m\"\u001b[39m\u001b[38;5;124mArabic\u001b[39m\u001b[38;5;124m\"\u001b[39m, \u001b[38;5;124m\"\u001b[39m\u001b[38;5;124mPunjabi\u001b[39m\u001b[38;5;124m\"\u001b[39m, \u001b[38;5;124m\"\u001b[39m\u001b[38;5;124mUrdu\u001b[39m\u001b[38;5;124m\"\u001b[39m]\n\u001b[1;32m----> 2\u001b[0m \u001b[38;5;28mprint\u001b[39m(\u001b[43mlanguages\u001b[49m\u001b[43m[\u001b[49m\u001b[38;5;241;43m-\u001b[39;49m\u001b[38;5;241;43m10\u001b[39;49m\u001b[43m]\u001b[49m)\n",
      "\u001b[1;31mIndexError\u001b[0m: list index out of range"
     ]
    }
   ],
   "source": [
    "languages = [\"Espanol\", \"French\", \"Arabic\", \"Punjabi\", \"Urdu\"]\n",
    "print(languages[-10])"
   ]
  },
  {
   "cell_type": "markdown",
   "metadata": {},
   "source": [
    "Index Error Correction:"
   ]
  },
  {
   "cell_type": "code",
   "execution_count": null,
   "metadata": {},
   "outputs": [
    {
     "name": "stdout",
     "output_type": "stream",
     "text": [
      "Punjabi\n"
     ]
    }
   ],
   "source": [
    "languages = [\"Espanol\", \"French\", \"Arabic\", \"Punjabi\", \"Urdu\"]\n",
    "print(languages[3])"
   ]
  }
 ],
 "metadata": {
  "kernelspec": {
   "display_name": "Python 3",
   "language": "python",
   "name": "python3"
  },
  "language_info": {
   "codemirror_mode": {
    "name": "ipython",
    "version": 3
   },
   "file_extension": ".py",
   "mimetype": "text/x-python",
   "name": "python",
   "nbconvert_exporter": "python",
   "pygments_lexer": "ipython3",
   "version": "3.12.4"
  }
 },
 "nbformat": 4,
 "nbformat_minor": 2
}
